{
 "cells": [
  {
   "cell_type": "code",
   "execution_count": 1,
   "metadata": {},
   "outputs": [],
   "source": [
    "import os"
   ]
  },
  {
   "cell_type": "code",
   "execution_count": 2,
   "metadata": {},
   "outputs": [
    {
     "data": {
      "text/plain": [
       "'c:\\\\Users\\\\ranji\\\\My Projects\\\\Projects\\\\Kidney-Disease-Classification-Deep-Learning-MLOps-Pipeline\\\\research'"
      ]
     },
     "execution_count": 2,
     "metadata": {},
     "output_type": "execute_result"
    }
   ],
   "source": [
    "%pwd"
   ]
  },
  {
   "cell_type": "code",
   "execution_count": 3,
   "metadata": {},
   "outputs": [],
   "source": [
    "os.chdir(\"../\")"
   ]
  },
  {
   "cell_type": "code",
   "execution_count": 4,
   "metadata": {},
   "outputs": [
    {
     "data": {
      "text/plain": [
       "'c:\\\\Users\\\\ranji\\\\My Projects\\\\Projects\\\\Kidney-Disease-Classification-Deep-Learning-MLOps-Pipeline'"
      ]
     },
     "execution_count": 4,
     "metadata": {},
     "output_type": "execute_result"
    }
   ],
   "source": [
    "%pwd"
   ]
  },
  {
   "cell_type": "code",
   "execution_count": 9,
   "metadata": {},
   "outputs": [],
   "source": [
    "from dataclasses import dataclass\n",
    "from pathlib import Path\n",
    "\n",
    "\n",
    "@dataclass(frozen=True)\n",
    "class DataIngestionConfig:\n",
    "    root_dir: Path\n",
    "    source_URL: str\n",
    "    local_data_file: Path\n",
    "    unzip_dir: Path"
   ]
  },
  {
   "cell_type": "code",
   "execution_count": 10,
   "metadata": {},
   "outputs": [],
   "source": [
    "from src.KidneyDiseaseClassifier.constants import *\n",
    "from src.KidneyDiseaseClassifier.utils.common import read_yaml, create_directories"
   ]
  },
  {
   "cell_type": "code",
   "execution_count": 11,
   "metadata": {},
   "outputs": [],
   "source": [
    "class ConfigurationManager:\n",
    "    def __init__(\n",
    "        self,\n",
    "        config_filepath = CONFIG_FILE_PATH,\n",
    "        params_filepath = PARAMS_FILE_PATH):\n",
    "\n",
    "        self.config = read_yaml(config_filepath)\n",
    "        self.params = read_yaml(params_filepath)\n",
    "\n",
    "        create_directories([self.config.artifacts_root])\n",
    "\n",
    "\n",
    "    \n",
    "    def get_data_ingestion_config(self) -> DataIngestionConfig:\n",
    "        config = self.config.data_ingestion\n",
    "\n",
    "        create_directories([config.root_dir])\n",
    "\n",
    "        data_ingestion_config = DataIngestionConfig(\n",
    "            root_dir=config.root_dir,\n",
    "            source_URL=config.source_URL,\n",
    "            local_data_file=config.local_data_file,\n",
    "            unzip_dir=config.unzip_dir \n",
    "        )\n",
    "\n",
    "        return data_ingestion_config"
   ]
  },
  {
   "cell_type": "code",
   "execution_count": 12,
   "metadata": {},
   "outputs": [],
   "source": [
    "import os\n",
    "import zipfile\n",
    "import boto3\n",
    "from urllib.parse import urlparse\n",
    "from src.KidneyDiseaseClassifier import logger\n",
    "from src.KidneyDiseaseClassifier.utils.common import get_size"
   ]
  },
  {
   "cell_type": "code",
   "execution_count": 13,
   "metadata": {},
   "outputs": [],
   "source": [
    "class DataIngestion:\n",
    "    def __init__(self, config: DataIngestionConfig):\n",
    "        self.config = config\n",
    "\n",
    "    def download_file(self) -> str:\n",
    "        '''\n",
    "        Downloads ZIP file from an S3 public URL and saves it locally.\n",
    "        '''\n",
    "        try:\n",
    "            dataset_url = self.config.source_URL\n",
    "            zip_download_path = self.config.local_data_file\n",
    "            os.makedirs(os.path.dirname(zip_download_path), exist_ok=True)\n",
    "\n",
    "            logger.info(f\"Downloading data from {dataset_url} into {zip_download_path}\")\n",
    "\n",
    "            # Parse bucket and key from the S3 URL\n",
    "            parsed_url = urlparse(dataset_url)\n",
    "            bucket_name = parsed_url.netloc.split('.')[0]  \n",
    "            object_key = parsed_url.path.lstrip('/')       \n",
    "\n",
    "            s3 = boto3.client('s3')\n",
    "            with open(zip_download_path, 'wb') as f:\n",
    "                s3.download_fileobj(bucket_name, object_key, f)\n",
    "\n",
    "            logger.info(f\"Downloaded data from {dataset_url} into file {zip_download_path}\")\n",
    "            return zip_download_path\n",
    "\n",
    "        except Exception as e:\n",
    "            logger.error(f\"Failed to download file from S3: {e}\")\n",
    "            raise e\n",
    "\n",
    "    def extract_zip_file(self):\n",
    "        \"\"\"\n",
    "        Extracts the downloaded ZIP file into the target directory.\n",
    "        \"\"\"\n",
    "        try:\n",
    "            unzip_path = self.config.unzip_dir\n",
    "            zip_path = self.config.local_data_file\n",
    "\n",
    "            os.makedirs(unzip_path, exist_ok=True)\n",
    "            logger.info(f\"Extracting {zip_path} to {unzip_path}\")\n",
    "\n",
    "            with zipfile.ZipFile(zip_path, 'r') as zip_ref:\n",
    "                zip_ref.extractall(unzip_path)\n",
    "\n",
    "            logger.info(f\"Extraction completed to folder: {unzip_path}\")\n",
    "\n",
    "        except Exception as e:\n",
    "            logger.error(f\"Failed to extract zip file: {e}\")\n",
    "            raise e\n",
    "\n"
   ]
  },
  {
   "cell_type": "code",
   "execution_count": 14,
   "metadata": {},
   "outputs": [
    {
     "name": "stdout",
     "output_type": "stream",
     "text": [
      "[2025-07-10 14:32:44,573: INFO: common: yaml file: config\\config.yaml loaded successfully]\n",
      "[2025-07-10 14:32:44,573: INFO: common: yaml file: params.yaml loaded successfully]\n",
      "[2025-07-10 14:32:44,581: INFO: common: created directory at: artifacts]\n",
      "[2025-07-10 14:32:44,581: INFO: common: created directory at: artifacts/data_ingestion]\n",
      "[2025-07-10 14:32:44,581: INFO: 2186131085: Downloading data from https://ct-kidney-data.s3.us-east-2.amazonaws.com/ct-kidney-images-data.zip into artifacts/data_ingestion/data.zip]\n",
      "[2025-07-10 14:32:44,606: INFO: credentials: Found credentials in shared credentials file: ~/.aws/credentials]\n",
      "[2025-07-10 14:32:53,321: INFO: 2186131085: Downloaded data from https://ct-kidney-data.s3.us-east-2.amazonaws.com/ct-kidney-images-data.zip into file artifacts/data_ingestion/data.zip]\n",
      "[2025-07-10 14:32:53,327: INFO: 2186131085: Extracting artifacts/data_ingestion/data.zip to artifacts/data_ingestion]\n",
      "[2025-07-10 14:32:57,020: INFO: 2186131085: Extraction completed to folder: artifacts/data_ingestion]\n"
     ]
    }
   ],
   "source": [
    "try:\n",
    "    config = ConfigurationManager()\n",
    "    data_ingestion_config = config.get_data_ingestion_config()\n",
    "    data_ingestion = DataIngestion(config=data_ingestion_config)\n",
    "    data_ingestion.download_file()\n",
    "    data_ingestion.extract_zip_file()\n",
    "except Exception as e:\n",
    "    raise e"
   ]
  },
  {
   "cell_type": "code",
   "execution_count": null,
   "metadata": {},
   "outputs": [],
   "source": []
  }
 ],
 "metadata": {
  "kernelspec": {
   "display_name": "kidneyenv",
   "language": "python",
   "name": "python3"
  },
  "language_info": {
   "codemirror_mode": {
    "name": "ipython",
    "version": 3
   },
   "file_extension": ".py",
   "mimetype": "text/x-python",
   "name": "python",
   "nbconvert_exporter": "python",
   "pygments_lexer": "ipython3",
   "version": "3.8.0"
  },
  "orig_nbformat": 4
 },
 "nbformat": 4,
 "nbformat_minor": 2
}
