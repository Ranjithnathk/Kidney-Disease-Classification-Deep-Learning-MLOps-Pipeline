{
 "cells": [
  {
   "cell_type": "code",
   "execution_count": 1,
   "metadata": {},
   "outputs": [],
   "source": [
    "import os"
   ]
  },
  {
   "cell_type": "code",
   "execution_count": 2,
   "metadata": {},
   "outputs": [
    {
     "data": {
      "text/plain": [
       "'c:\\\\Users\\\\ranji\\\\My Projects\\\\Projects\\\\Kidney-Disease-Classification-Deep-Learning-MLOps-Pipeline\\\\research'"
      ]
     },
     "execution_count": 2,
     "metadata": {},
     "output_type": "execute_result"
    }
   ],
   "source": [
    "%pwd"
   ]
  },
  {
   "cell_type": "code",
   "execution_count": 3,
   "metadata": {},
   "outputs": [],
   "source": [
    "os.chdir(\"../\")"
   ]
  },
  {
   "cell_type": "code",
   "execution_count": 4,
   "metadata": {},
   "outputs": [
    {
     "data": {
      "text/plain": [
       "'c:\\\\Users\\\\ranji\\\\My Projects\\\\Projects\\\\Kidney-Disease-Classification-Deep-Learning-MLOps-Pipeline'"
      ]
     },
     "execution_count": 4,
     "metadata": {},
     "output_type": "execute_result"
    }
   ],
   "source": [
    "%pwd"
   ]
  },
  {
   "cell_type": "code",
   "execution_count": 5,
   "metadata": {},
   "outputs": [],
   "source": [
    "from dataclasses import dataclass\n",
    "from pathlib import Path\n",
    "\n",
    "\n",
    "@dataclass(frozen=True)\n",
    "class TrainingConfig:\n",
    "    root_dir: Path\n",
    "    trained_model_path: Path\n",
    "    updated_base_model_path: Path\n",
    "    training_data: Path\n",
    "    params_epochs: int\n",
    "    params_batch_size: int\n",
    "    params_is_augmentation: bool\n",
    "    params_image_size: list\n",
    "    params_classes: int\n",
    "    params_weights: str\n",
    "    params_include_top: bool\n",
    "    params_learning_rate: float"
   ]
  },
  {
   "cell_type": "code",
   "execution_count": 6,
   "metadata": {},
   "outputs": [],
   "source": [
    "from src.KidneyDiseaseClassifier.constants import *\n",
    "from src.KidneyDiseaseClassifier.utils.common import read_yaml, create_directories\n",
    "import tensorflow as tf"
   ]
  },
  {
   "cell_type": "code",
   "execution_count": 7,
   "metadata": {},
   "outputs": [],
   "source": [
    "class ConfigurationManager:\n",
    "    def __init__(\n",
    "        self,\n",
    "        config_filepath = CONFIG_FILE_PATH,\n",
    "        params_filepath = PARAMS_FILE_PATH):\n",
    "\n",
    "        self.config = read_yaml(config_filepath)\n",
    "        self.params = read_yaml(params_filepath)\n",
    "\n",
    "        create_directories([self.config.artifacts_root])\n",
    "\n",
    "\n",
    "    \n",
    "    def get_training_config(self) -> TrainingConfig:\n",
    "        training = self.config.training\n",
    "        prepare_base_model = self.config.prepare_base_model\n",
    "        params = self.params\n",
    "        training_data = os.path.join(self.config.data_ingestion.unzip_dir, \"ct-kidney-images-data\")\n",
    "        create_directories([\n",
    "            Path(training.root_dir)\n",
    "        ])\n",
    "\n",
    "        training_config = TrainingConfig(\n",
    "            root_dir=Path(training.root_dir),\n",
    "            trained_model_path=Path(training.trained_model_path),\n",
    "            updated_base_model_path=Path(prepare_base_model.updated_base_model_path),\n",
    "            training_data=Path(training_data),\n",
    "            params_epochs=params.EPOCHS,\n",
    "            params_batch_size=params.BATCH_SIZE,\n",
    "            params_is_augmentation=params.AUGMENTATION,\n",
    "            params_image_size=params.IMAGE_SIZE,\n",
    "            params_classes=params.CLASSES,\n",
    "            params_weights=params.WEIGHTS,\n",
    "            params_include_top=params.INCLUDE_TOP,\n",
    "            params_learning_rate=float(params.LEARNING_RATE)\n",
    "        )\n",
    "\n",
    "        return training_config"
   ]
  },
  {
   "cell_type": "code",
   "execution_count": 8,
   "metadata": {},
   "outputs": [],
   "source": [
    "import os\n",
    "import urllib.request as request\n",
    "from zipfile import ZipFile\n",
    "import tensorflow as tf\n",
    "import time"
   ]
  },
  {
   "cell_type": "code",
   "execution_count": null,
   "metadata": {},
   "outputs": [],
   "source": [
    "from tensorflow.keras.callbacks import EarlyStopping, ReduceLROnPlateau"
   ]
  },
  {
   "cell_type": "code",
   "execution_count": 10,
   "metadata": {},
   "outputs": [],
   "source": [
    "class Training:\n",
    "    def __init__(self, config: TrainingConfig):\n",
    "        self.config = config\n",
    "\n",
    "    \n",
    "    def get_base_model(self):\n",
    "        # Load the saved updated base model (.keras)\n",
    "        self.model = tf.keras.models.load_model(self.config.updated_base_model_path)\n",
    "        #self.model.summary()\n",
    "\n",
    "        # Compile the model again after loading\n",
    "        self.model.compile(\n",
    "            optimizer=tf.keras.optimizers.Adam(learning_rate=self.config.params_learning_rate),\n",
    "            loss=tf.keras.losses.CategoricalCrossentropy(),\n",
    "            metrics=[\"accuracy\"]\n",
    "        )\n",
    "\n",
    "    def train_valid_generator(self):\n",
    "\n",
    "        datagenerator_kwargs = dict(\n",
    "            rescale = 1./255,\n",
    "            validation_split=0.20\n",
    "        )\n",
    "\n",
    "        dataflow_kwargs = dict(\n",
    "            target_size=self.config.params_image_size[:-1],\n",
    "            batch_size=self.config.params_batch_size,\n",
    "            interpolation=\"bilinear\"\n",
    "        )\n",
    "\n",
    "        valid_datagenerator = tf.keras.preprocessing.image.ImageDataGenerator(\n",
    "            **datagenerator_kwargs\n",
    "        )\n",
    "\n",
    "        self.valid_generator = valid_datagenerator.flow_from_directory(\n",
    "            directory=self.config.training_data,\n",
    "            subset=\"validation\",\n",
    "            shuffle=False,\n",
    "            **dataflow_kwargs\n",
    "        )\n",
    "\n",
    "        if self.config.params_is_augmentation:\n",
    "            train_datagenerator = tf.keras.preprocessing.image.ImageDataGenerator(\n",
    "                rotation_range=40,\n",
    "                horizontal_flip=True,\n",
    "                width_shift_range=0.2,\n",
    "                height_shift_range=0.2,\n",
    "                shear_range=0.2,\n",
    "                zoom_range=0.2,\n",
    "                **datagenerator_kwargs\n",
    "            )\n",
    "        else:\n",
    "            train_datagenerator = valid_datagenerator\n",
    "\n",
    "        self.train_generator = train_datagenerator.flow_from_directory(\n",
    "            directory=self.config.training_data,\n",
    "            subset=\"training\",\n",
    "            shuffle=True,\n",
    "            **dataflow_kwargs\n",
    "        )\n",
    "\n",
    "    \n",
    "    @staticmethod\n",
    "    def save_model(path: Path, model: tf.keras.Model):\n",
    "        path = str(path)\n",
    "        if not path.endswith(\".keras\"):\n",
    "            path += \".keras\"\n",
    "        model.save(path)\n",
    "\n",
    "\n",
    "\n",
    "    \n",
    "    def train(self):\n",
    "        self.steps_per_epoch = self.train_generator.samples // self.train_generator.batch_size\n",
    "        self.validation_steps = self.valid_generator.samples // self.valid_generator.batch_size\n",
    "\n",
    "        # Add callbacks\n",
    "        callbacks = [\n",
    "            EarlyStopping(monitor='val_loss', patience=3, restore_best_weights=True),\n",
    "            ReduceLROnPlateau(monitor='val_loss', factor=0.2, patience=2, verbose=1)\n",
    "        ]\n",
    "        \n",
    "        self.model.fit(\n",
    "            self.train_generator,\n",
    "            epochs=self.config.params_epochs,\n",
    "            steps_per_epoch=self.steps_per_epoch,\n",
    "            validation_steps=self.validation_steps,\n",
    "            validation_data=self.valid_generator,\n",
    "            callbacks=callbacks\n",
    "        )\n",
    "\n",
    "        self.save_model(\n",
    "            path=self.config.trained_model_path,\n",
    "            model=self.model\n",
    "        )\n",
    "\n"
   ]
  },
  {
   "cell_type": "code",
   "execution_count": 11,
   "metadata": {},
   "outputs": [
    {
     "name": "stdout",
     "output_type": "stream",
     "text": [
      "[2025-07-12 14:55:20,740: INFO: common: yaml file: config\\config.yaml loaded successfully]\n",
      "[2025-07-12 14:55:20,742: INFO: common: yaml file: params.yaml loaded successfully]\n",
      "[2025-07-12 14:55:20,743: INFO: common: created directory at: artifacts]\n",
      "[2025-07-12 14:55:20,744: INFO: common: created directory at: artifacts\\training]\n",
      "[2025-07-12 14:55:22,820: WARNING: hdf5_format: No training configuration found in the save file, so the model was *not* compiled. Compile it manually.]\n",
      "Found 400 images belonging to 4 classes.\n",
      "Found 1600 images belonging to 4 classes.\n",
      "Epoch 1/10\n",
      "100/100 [==============================] - 94s 890ms/step - loss: 1.9995 - accuracy: 0.3363 - val_loss: 1.6328 - val_accuracy: 0.1800 - lr: 1.0000e-04\n",
      "Epoch 2/10\n",
      "100/100 [==============================] - 92s 925ms/step - loss: 1.4491 - accuracy: 0.4831 - val_loss: 2.9505 - val_accuracy: 0.2850 - lr: 1.0000e-04\n",
      "Epoch 3/10\n",
      "100/100 [==============================] - 85s 849ms/step - loss: 1.1009 - accuracy: 0.5875 - val_loss: 0.9720 - val_accuracy: 0.5100 - lr: 1.0000e-04\n",
      "Epoch 4/10\n",
      "100/100 [==============================] - 99s 986ms/step - loss: 0.8459 - accuracy: 0.6862 - val_loss: 2.3328 - val_accuracy: 0.3025 - lr: 1.0000e-04\n",
      "Epoch 5/10\n",
      "100/100 [==============================] - ETA: 0s - loss: 0.6069 - accuracy: 0.7812\n",
      "Epoch 5: ReduceLROnPlateau reducing learning rate to 1.9999999494757503e-05.\n",
      "100/100 [==============================] - 111s 1s/step - loss: 0.6069 - accuracy: 0.7812 - val_loss: 1.0793 - val_accuracy: 0.6400 - lr: 1.0000e-04\n",
      "Epoch 6/10\n",
      "100/100 [==============================] - 103s 1s/step - loss: 0.4534 - accuracy: 0.8331 - val_loss: 0.8522 - val_accuracy: 0.6850 - lr: 2.0000e-05\n",
      "Epoch 7/10\n",
      "100/100 [==============================] - 92s 921ms/step - loss: 0.3664 - accuracy: 0.8700 - val_loss: 0.9252 - val_accuracy: 0.6650 - lr: 2.0000e-05\n",
      "Epoch 8/10\n",
      "100/100 [==============================] - 94s 935ms/step - loss: 0.3678 - accuracy: 0.8700 - val_loss: 0.7259 - val_accuracy: 0.6800 - lr: 2.0000e-05\n",
      "Epoch 9/10\n",
      "100/100 [==============================] - 106s 1s/step - loss: 0.3276 - accuracy: 0.8806 - val_loss: 0.7303 - val_accuracy: 0.7275 - lr: 2.0000e-05\n",
      "Epoch 10/10\n",
      "100/100 [==============================] - ETA: 0s - loss: 0.2686 - accuracy: 0.9069\n",
      "Epoch 10: ReduceLROnPlateau reducing learning rate to 3.999999898951501e-06.\n",
      "100/100 [==============================] - 112s 1s/step - loss: 0.2686 - accuracy: 0.9069 - val_loss: 0.7770 - val_accuracy: 0.7175 - lr: 2.0000e-05\n"
     ]
    }
   ],
   "source": [
    "try:\n",
    "    config = ConfigurationManager()\n",
    "    training_config = config.get_training_config()\n",
    "    training = Training(config=training_config)\n",
    "    training.get_base_model()\n",
    "    training.train_valid_generator()\n",
    "    training.train()\n",
    "    \n",
    "except Exception as e:\n",
    "    raise e\n"
   ]
  },
  {
   "cell_type": "code",
   "execution_count": null,
   "metadata": {},
   "outputs": [],
   "source": []
  }
 ],
 "metadata": {
  "kernelspec": {
   "display_name": "kidneyenv",
   "language": "python",
   "name": "python3"
  },
  "language_info": {
   "codemirror_mode": {
    "name": "ipython",
    "version": 3
   },
   "file_extension": ".py",
   "mimetype": "text/x-python",
   "name": "python",
   "nbconvert_exporter": "python",
   "pygments_lexer": "ipython3",
   "version": "3.8.0"
  },
  "orig_nbformat": 4
 },
 "nbformat": 4,
 "nbformat_minor": 2
}
